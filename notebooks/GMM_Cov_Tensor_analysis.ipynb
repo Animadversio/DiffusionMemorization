{
 "cells": [
  {
   "cell_type": "markdown",
   "metadata": {},
   "source": [
    "## Covariance tensor structure of Image distribution"
   ]
  },
  {
   "cell_type": "markdown",
   "metadata": {},
   "source": [
    "We would like to understand the covariance structure of a gaussian mixture model. esp. are there shared variability, or are there shared null space in the mixture covariances. \n",
    "\n",
    "Potential routes:\n",
    "* Globally decompose the batch of cov mats via tensor decomposition.\n",
    "* Represent covariance matrices via a hierarchical way. locally find shared variabilities."
   ]
  },
  {
   "cell_type": "markdown",
   "metadata": {},
   "source": [
    "### Compute Batch Covariance Tensor."
   ]
  },
  {
   "cell_type": "code",
   "execution_count": 2,
   "metadata": {},
   "outputs": [],
   "source": [
    "import torch\n",
    "import numpy as np\n",
    "import pandas as pd\n",
    "import matplotlib.pyplot as plt\n",
    "import seaborn as sns\n",
    "import tensorly as tl\n",
    "from tensorly.decomposition import parafac\n",
    "from torch.utils.data import DataLoader, Dataset\n",
    "from torchvision.utils import make_grid\n",
    "from tqdm import tqdm, trange"
   ]
  },
  {
   "cell_type": "code",
   "execution_count": 3,
   "metadata": {},
   "outputs": [],
   "source": [
    "from sklearn.cluster import KMeans, MiniBatchKMeans\n",
    "def compute_cluster_cov(Xtrain_norm, n_clusters,\n",
    "                       kmeans_batch=2048, \n",
    "                       kmeans_random_seed=0,\n",
    "                       kmeans_verbose=0,\n",
    "                       lambda_EPS=1E-5, \n",
    "                       store_device=\"cuda\"):\n",
    "    kmeans = MiniBatchKMeans(n_clusters=n_clusters, \n",
    "            random_state=kmeans_random_seed, batch_size=kmeans_batch, verbose=kmeans_verbose)\n",
    "    kmeans.fit(Xtrain_norm)\n",
    "    ndim = Xtrain_norm.shape[1]\n",
    "    covmats = []\n",
    "    freq_col = []\n",
    "    for i in trange(kmeans.n_clusters):\n",
    "        n_samples = np.sum(kmeans.labels_ == i)\n",
    "        X_cluster = Xtrain_norm[kmeans.labels_ == i]\n",
    "        # print(i, \"number of samples\", n_samples)\n",
    "        if n_samples == 1:\n",
    "            covmat = torch.eye(ndim) * lambda_EPS\n",
    "        else:\n",
    "            covmat = torch.tensor(np.cov(X_cluster.T))\n",
    "        covmats.append(covmat.to(store_device))\n",
    "        freq_col.append(n_samples)\n",
    "    covmats = torch.stack(covmats)\n",
    "    freq_col = torch.tensor(freq_col).to(store_device)\n",
    "    means = torch.tensor(kmeans.cluster_centers_).to(store_device)\n",
    "    return kmeans, means, covmats, freq_col"
   ]
  },
  {
   "cell_type": "code",
   "execution_count": 4,
   "metadata": {},
   "outputs": [],
   "source": [
    "def compute_cluster(Xtrain_norm, n_clusters,\n",
    "                       kmeans_batch=2048, \n",
    "                       kmeans_random_seed=0,\n",
    "                       kmeans_verbose=0,\n",
    "                       lambda_EPS=1E-5, \n",
    "                       store_device=\"cuda\"):\n",
    "    kmeans = MiniBatchKMeans(n_clusters=n_clusters, \n",
    "            random_state=kmeans_random_seed, batch_size=kmeans_batch, verbose=kmeans_verbose)\n",
    "    kmeans.fit(Xtrain_norm)\n",
    "    print(\"Kmeans fitting completing, loss \", kmeans.inertia_)\n",
    "    # covmats = []\n",
    "    ndim = Xtrain_norm.shape[1]\n",
    "    eigval_col = []\n",
    "    eigvec_col = []\n",
    "    freq_col = []\n",
    "    for i in trange(kmeans.n_clusters):\n",
    "        n_samples = np.sum(kmeans.labels_ == i)\n",
    "        # print(i, \"number of samples\", n_samples)\n",
    "        freq_col.append(n_samples)\n",
    "        if n_samples == 1:\n",
    "            covmat = torch.eye(ndim) * lambda_EPS\n",
    "        else:\n",
    "            covmat = torch.tensor(np.cov(Xtrain_norm[kmeans.labels_ == i].T))\n",
    "            # PCA to reduce dimension\n",
    "            covmat = covmat + lambda_EPS * torch.eye(covmat.shape[0])\n",
    "        try:\n",
    "            eigval, eigvec = torch.linalg.eigh(covmat.cuda())\n",
    "        except:\n",
    "            print(f\"Singular matrix perform eigh on cpu. {n_samples} samples\")\n",
    "            eigval, eigvec = torch.linalg.eigh(covmat)\n",
    "        \n",
    "        eigval = eigval.flip(dims=(0,))  # sort from largest to smallest\n",
    "        eigvec = eigvec.flip(dims=(1,))  # sort from largest to smallest\n",
    "        eigval = eigval.to(store_device)\n",
    "        eigvec = eigvec.to(store_device)\n",
    "        eigval_col.append(eigval.cpu())\n",
    "        eigvec_col.append(eigvec.cpu())\n",
    "        # covmats.append(covmat)\n",
    "    eigval_mat = torch.stack(eigval_col, dim=0)\n",
    "    eigvec_mat = torch.stack(eigvec_col, dim=0)\n",
    "    freq_vec = torch.tensor(freq_col)\n",
    "    center_mat = torch.from_numpy(kmeans.cluster_centers_)\n",
    "    print(\"cov PCA completed for each cluster.\")\n",
    "    return kmeans, eigval_mat, eigvec_mat, freq_vec, center_mat"
   ]
  },
  {
   "cell_type": "code",
   "execution_count": 4,
   "metadata": {},
   "outputs": [],
   "source": [
    "import torch\n",
    "from torchvision.datasets import MNIST\n",
    "from torchvision import transforms\n",
    "\n",
    "dataset = MNIST(root=\"~/Datasets\", train=True, download=False, transform=transforms.ToTensor())\n",
    "Xtsr = dataset.data.float() / 255\n",
    "Xtrain = Xtsr.reshape(Xtsr.shape[0], -1)\n",
    "ytrain = dataset.targets\n",
    "Xtrain_norm = (Xtrain - Xtrain.mean()) / Xtrain.std()\n",
    "Xmean = Xtrain_norm.mean(dim=0)\n",
    "covmat = torch.cov((Xtrain_norm - Xmean).T)\n",
    "eigval, eigvec = torch.linalg.eigh(covmat.to(torch.float64))\n",
    "eigval = eigval.flip(dims=(0,))  # sort from largest to smallest\n",
    "eigvec = eigvec.flip(dims=(1,))  # sort from largest to smallest\n",
    "assert torch.allclose(eigvec.T @ eigvec, torch.eye(eigvec.shape[0]).to(torch.float64))\n",
    "assert torch.allclose(eigvec @ torch.diag(eigval) @ eigvec.T, covmat.to(torch.float64))"
   ]
  },
  {
   "cell_type": "code",
   "execution_count": 5,
   "metadata": {},
   "outputs": [
    {
     "name": "stderr",
     "output_type": "stream",
     "text": [
      "/n/home12/binxuwang/.conda/envs/torch/lib/python3.10/site-packages/sklearn/cluster/_kmeans.py:1930: FutureWarning: The default value of `n_init` will change from 3 to 'auto' in 1.4. Set the value of `n_init` explicitly to suppress the warning\n",
      "  super()._check_params_vs_input(X, default_n_init=3)\n",
      "100%|██████████| 200/200 [00:01<00:00, 134.18it/s]\n"
     ]
    }
   ],
   "source": [
    "kmeans, means, covmats, freq_col = \\\n",
    "    compute_cluster_cov(Xtrain_norm, 200, kmeans_batch=2048, \n",
    "                    kmeans_random_seed=0, \n",
    "                    kmeans_verbose=0, \n",
    "                    lambda_EPS=1E-5, \n",
    "                    store_device=\"cuda\")"
   ]
  },
  {
   "cell_type": "markdown",
   "metadata": {},
   "source": [
    "## Tensor Decompose batch of covariance tensors"
   ]
  },
  {
   "cell_type": "markdown",
   "metadata": {},
   "source": [
    "We try to approximate a batch of covariance mats with a tensor decomposition. using tensorly library. \n",
    "* CP-decompose. \n",
    "* Tucker-decompose. \n",
    "\n",
    "https://tensorly.org/stable/user_guide/tensor_decomposition.html"
   ]
  },
  {
   "cell_type": "code",
   "execution_count": null,
   "metadata": {},
   "outputs": [
    {
     "name": "stdout",
     "output_type": "stream",
     "text": [
      "^C\n"
     ]
    }
   ],
   "source": [
    "# !mamba install tensorly-torch\n",
    "# https://github.com/mnick/scikit-tensor"
   ]
  },
  {
   "cell_type": "code",
   "execution_count": 6,
   "metadata": {},
   "outputs": [],
   "source": [
    "import tensorly as tl\n",
    "from tensorly.decomposition import parafac, tucker\n",
    "tl.set_backend('pytorch')"
   ]
  },
  {
   "cell_type": "code",
   "execution_count": 9,
   "metadata": {},
   "outputs": [
    {
     "data": {
      "text/plain": [
       "['truncated_svd', 'symeig_svd', 'randomized_svd']"
      ]
     },
     "execution_count": 9,
     "metadata": {},
     "output_type": "execute_result"
    }
   ],
   "source": [
    "tl.SVD_FUNS"
   ]
  },
  {
   "cell_type": "code",
   "execution_count": 11,
   "metadata": {},
   "outputs": [],
   "source": [
    "torch.cuda.empty_cache()"
   ]
  },
  {
   "cell_type": "markdown",
   "metadata": {},
   "source": [
    "Note the following cp decomposition is wery likely to go OOM on CPU or GPU. \n",
    "Very hard to compute, need better method."
   ]
  },
  {
   "cell_type": "code",
   "execution_count": 15,
   "metadata": {},
   "outputs": [],
   "source": [
    "# Assuming 'tensor' is your [B, N, N] tensor\n",
    "factors = parafac(covmats.cpu(), rank=200, svd='truncated_svd',\n",
    "                  orthogonalise=True)  # Specify the rank R\n",
    "# 8mins for rank 200 on cpu... very slow."
   ]
  },
  {
   "cell_type": "code",
   "execution_count": 18,
   "metadata": {},
   "outputs": [
    {
     "data": {
      "text/plain": [
       "torch.Size([200, 784, 784])"
      ]
     },
     "execution_count": 18,
     "metadata": {},
     "output_type": "execute_result"
    }
   ],
   "source": [
    "tl.cp_to_tensor(factors).shape"
   ]
  },
  {
   "cell_type": "code",
   "execution_count": 33,
   "metadata": {},
   "outputs": [
    {
     "name": "stdout",
     "output_type": "stream",
     "text": [
      "tensor([0.4884, 0.5888, 0.5645, 0.5313, 0.5504, 0.8157, 0.5545, 0.4625, 0.4508,\n",
      "        0.4715, 0.5289, 0.5428, 0.4571, 0.7776, 0.4561, 0.4662, 0.4610, 0.5400,\n",
      "        0.5214, 0.5432, 0.5797, 0.5775, 0.5425, 0.5340, 0.4984, 0.4622, 0.4455,\n",
      "        0.5066, 0.6321, 0.4746, 0.5293, 0.5419, 0.8208, 0.4377, 0.5728, 0.5225,\n",
      "        0.5083, 0.4264, 0.4854, 0.4599, 0.5213, 0.4910, 0.5349, 0.4530, 0.6501,\n",
      "        0.5597, 0.4374, 0.5522, 0.5050, 0.4858, 0.4859, 0.5663, 0.4606, 0.5471,\n",
      "        0.4382, 0.4872, 0.4856, 0.5496, 0.4832, 0.4450, 0.4236, 0.4884, 0.4733,\n",
      "        0.5992, 0.5734, 0.5734, 0.4852, 0.5502, 0.7223, 0.4765, 0.4431, 0.5291,\n",
      "        0.4138, 0.5052, 0.4588, 0.5076, 0.4200, 0.4662, 0.4489, 0.4694, 0.5633,\n",
      "        0.4405, 0.5647, 0.5169, 0.5181, 0.4071, 0.5165, 0.4652, 0.4922, 0.5728,\n",
      "        0.4893, 0.5200, 0.5997, 0.4719, 0.4387, 0.5750, 0.5190, 0.4591, 0.4533,\n",
      "        0.4650, 0.4917, 0.4931, 0.4274, 0.4607, 0.5485, 0.4804, 0.8224, 0.4799,\n",
      "        0.5346, 0.5397, 0.6990, 0.4918, 0.4984, 0.6182, 0.5151, 0.4673, 0.4770,\n",
      "        0.5110, 0.5261, 0.4358, 0.5018, 0.5390, 0.5013, 0.5517, 0.5642, 0.5248,\n",
      "        0.4777, 0.4857, 0.4663, 0.4315, 0.5200, 0.7039, 0.5014, 0.5490, 0.4837,\n",
      "        0.4747, 0.5015, 0.6714, 0.5233, 0.4413, 0.4412, 0.4382, 0.5348, 0.4389,\n",
      "        0.5414, 0.4165, 0.4916, 0.4898, 0.4581, 0.5145, 0.4800, 0.5451, 0.4548,\n",
      "        0.4894, 0.5244, 0.5411, 0.5016, 0.5111, 0.5290, 0.4955, 0.6306, 0.5535,\n",
      "        0.4972, 0.5596, 0.5711, 0.4986, 0.4816, 0.7638, 0.6038, 0.4363, 0.5661,\n",
      "        0.4854, 0.5871, 0.5060, 0.4599, 0.5237, 0.4816, 0.6180, 0.5218, 0.5191,\n",
      "        0.4245, 0.5887, 0.5483, 0.5351, 0.5486, 0.5365, 0.4844, 0.4386, 0.4586,\n",
      "        0.5054, 0.5973, 0.5186, 0.5442, 0.7517, 0.4990, 0.5746, 0.5398, 0.5235,\n",
      "        0.5762, 0.5728], device='cuda:0', dtype=torch.float64)\n"
     ]
    }
   ],
   "source": [
    "residues = (covmats - tl.cp_to_tensor(factors))\n",
    "res_norm = torch.norm(residues, dim=(1, 2))\n",
    "tot_norm = torch.norm(covmats, dim=(1, 2))\n",
    "print(res_norm / tot_norm)"
   ]
  },
  {
   "cell_type": "code",
   "execution_count": 23,
   "metadata": {},
   "outputs": [
    {
     "data": {
      "text/plain": [
       "tensor([[0., 0., 0.,  ..., 0., 0., 0.],\n",
       "        [0., 0., 0.,  ..., 0., 0., 0.],\n",
       "        [0., 0., 0.,  ..., 0., 0., 0.],\n",
       "        ...,\n",
       "        [0., 0., 0.,  ..., 0., 0., 0.],\n",
       "        [0., 0., 0.,  ..., 0., 0., 0.],\n",
       "        [0., 0., 0.,  ..., 0., 0., 0.]], device='cuda:0', dtype=torch.float64)"
      ]
     },
     "execution_count": 23,
     "metadata": {},
     "output_type": "execute_result"
    }
   ],
   "source": [
    "factors.factors[1]"
   ]
  },
  {
   "cell_type": "code",
   "execution_count": 24,
   "metadata": {},
   "outputs": [
    {
     "data": {
      "text/plain": [
       "tensor([[0., 0., 0.,  ..., 0., 0., 0.],\n",
       "        [0., 0., 0.,  ..., 0., 0., 0.],\n",
       "        [0., 0., 0.,  ..., 0., 0., 0.],\n",
       "        ...,\n",
       "        [0., 0., 0.,  ..., 0., 0., 0.],\n",
       "        [0., 0., 0.,  ..., 0., 0., 0.],\n",
       "        [0., 0., 0.,  ..., 0., 0., 0.]], device='cuda:0', dtype=torch.float64)"
      ]
     },
     "execution_count": 24,
     "metadata": {},
     "output_type": "execute_result"
    }
   ],
   "source": [
    "factors.factors[2]"
   ]
  },
  {
   "cell_type": "code",
   "execution_count": 26,
   "metadata": {},
   "outputs": [
    {
     "data": {
      "image/png": "[encoded data removed]",
      "text/plain": [
       "<Figure size 500x1200 with 3 Axes>"
      ]
     },
     "metadata": {},
     "output_type": "display_data"
    }
   ],
   "source": [
    "plt.figure(figsize=(5, 12))\n",
    "plt.subplot(1, 3, 1)\n",
    "plt.imshow(factors.factors[1].cpu().numpy(), cmap=\"gray\")\n",
    "plt.subplot(1, 3, 2)\n",
    "plt.imshow(factors.factors[2].cpu().numpy(), cmap=\"gray\")\n",
    "plt.subplot(1, 3, 3)\n",
    "plt.imshow(factors.factors[0].cpu().numpy(), cmap=\"gray\")\n",
    "plt.show()"
   ]
  },
  {
   "cell_type": "code",
   "execution_count": 22,
   "metadata": {},
   "outputs": [
    {
     "data": {
      "text/plain": [
       "tensor([35.8247, 25.3248, 34.4893, 28.4248, 29.0011, 20.0413, 29.0605, 27.4316,\n",
       "        30.1973, 33.8770, 31.0208, 34.3016, 28.1546, 19.3683, 31.4965, 27.5455,\n",
       "        36.0293, 23.8977, 27.9241, 30.0404, 23.8056, 28.2789, 22.7701, 28.8336,\n",
       "        32.3444, 34.3842, 28.0085, 29.7445, 27.6434, 33.1903, 24.0862, 37.5121,\n",
       "        17.6189, 33.0498, 35.5646, 27.6486, 27.2951, 25.6493, 25.8692, 28.4512,\n",
       "        26.6725, 35.3498, 31.6647, 30.2908, 20.0994, 33.8699, 33.5277, 35.4017,\n",
       "        34.9968, 30.0374, 34.2770, 22.0280, 29.9079, 34.3714, 29.8739, 30.9392,\n",
       "        28.6249, 23.6313, 34.9585, 31.6992, 25.7577, 28.5892, 34.3751, 24.3258,\n",
       "        25.2107, 25.9671, 36.3276, 29.7961, 24.4627, 38.5823, 26.8239, 32.1497,\n",
       "        31.4850, 31.6133, 39.2944, 37.0033, 41.4196, 40.7346, 34.4040, 27.6647,\n",
       "        30.9988, 37.9349, 23.4927, 35.0668, 28.4412, 28.3888, 37.3708, 29.0317,\n",
       "        26.6787, 24.3700, 27.5449, 31.0658, 25.5079, 36.7664, 33.4743, 40.2977,\n",
       "        31.1824, 26.2322, 23.8458, 32.4945, 30.4860, 35.4269, 28.6305, 31.6152,\n",
       "        30.6580, 33.6968, 17.9041, 35.1926, 26.2499, 35.7386, 20.0825, 41.8981,\n",
       "        33.6804, 28.8915, 31.5738, 31.7069, 38.7130, 27.1564, 30.7589, 36.0847,\n",
       "        28.3133, 27.4110, 33.2407, 30.0269, 29.4724, 24.6341, 41.5437, 32.3236,\n",
       "        38.8778, 31.3475, 27.7127, 18.1836, 40.0785, 22.9704, 35.7843, 34.3978,\n",
       "        28.8226, 25.8307, 30.4871, 34.4111, 33.6147, 29.2984, 34.3324, 38.6142,\n",
       "        35.4763, 30.2150, 30.0227, 24.7688, 27.1450, 37.4341, 34.7486, 26.9058,\n",
       "        32.6491, 31.2527, 31.3703, 23.6514, 38.1194, 40.4120, 30.1298, 25.6297,\n",
       "        19.5126, 28.5250, 26.5781, 30.7718, 29.1749, 32.1437, 24.3134, 20.3533,\n",
       "        24.2099, 33.8652, 31.2849, 24.7498, 32.3041, 39.2294, 29.5931, 30.6048,\n",
       "        28.3327, 32.5276, 27.1017, 31.4314, 27.2345, 27.4887, 38.5676, 23.0834,\n",
       "        29.3352, 32.6256, 33.1059, 30.4277, 27.9310, 33.6258, 24.4139, 34.0257,\n",
       "        30.1946, 19.5389, 28.8405, 38.8738, 28.7791, 23.1231, 22.4070, 30.5861],\n",
       "       device='cuda:0', dtype=torch.float64)"
      ]
     },
     "execution_count": 22,
     "metadata": {},
     "output_type": "execute_result"
    }
   ],
   "source": [
    "res_norm"
   ]
  },
  {
   "cell_type": "code",
   "execution_count": 39,
   "metadata": {},
   "outputs": [
    {
     "data": {
      "text/plain": [
       "tensorly.cp_tensor.CPTensor"
      ]
     },
     "execution_count": 39,
     "metadata": {},
     "output_type": "execute_result"
    }
   ],
   "source": [
    "type(factors)"
   ]
  },
  {
   "cell_type": "code",
   "execution_count": 40,
   "metadata": {},
   "outputs": [
    {
     "data": {
      "text/plain": [
       "tensorly.tucker_tensor.TuckerTensor"
      ]
     },
     "execution_count": 40,
     "metadata": {},
     "output_type": "execute_result"
    }
   ],
   "source": [
    "type(factors_tuk)"
   ]
  },
  {
   "cell_type": "code",
   "execution_count": 9,
   "metadata": {},
   "outputs": [],
   "source": [
    "def compute_params(factors):\n",
    "    if isinstance(factors, tl.cp_tensor.CPTensor):\n",
    "        num_params = sum([np.prod(f.shape) for f in factors.factors])\n",
    "    elif isinstance(factors, tl.tucker_tensor.TuckerTensor):\n",
    "        num_params = sum([np.prod(f.shape) for f in factors.factors]) + np.prod(factors.core.shape)\n",
    "    return num_params\n"
   ]
  },
  {
   "cell_type": "code",
   "execution_count": null,
   "metadata": {},
   "outputs": [],
   "source": [
    "factors_tuk = parafac(covmats, rank=400, verbose=0) \n",
    "print(\"parameter count\", compute_params(factors_tuk))\n",
    "residues = (covmats - tl.tucker_to_tensor(factors_tuk))\n",
    "residues_norm = torch.norm(residues, dim=(1, 2))\n",
    "tot_norm = torch.norm(covmats, dim=(1, 2))\n",
    "print(residues_norm / tot_norm)"
   ]
  },
  {
   "cell_type": "code",
   "execution_count": 17,
   "metadata": {},
   "outputs": [
    {
     "name": "stdout",
     "output_type": "stream",
     "text": [
      "X mat num of params 47040000\n",
      "cov mat num of params 122931200\n"
     ]
    }
   ],
   "source": [
    "print (\"X mat num of params\", np.prod(Xtrain_norm.shape))\n",
    "print (\"cov mat num of params\", np.prod(covmats.shape))"
   ]
  },
  {
   "cell_type": "code",
   "execution_count": 18,
   "metadata": {},
   "outputs": [
    {
     "name": "stdout",
     "output_type": "stream",
     "text": [
      "parameter count 9490400\n",
      "core shape torch.Size([100, 300, 300])\n",
      "factor shape [torch.Size([200, 100]), torch.Size([784, 300]), torch.Size([784, 300])]\n",
      "tensor([0.2123, 0.4805, 0.3473, 0.4111, 0.4014, 0.7132, 0.4389, 0.3644, 0.2781,\n",
      "        0.2578, 0.3211, 0.3258, 0.3004, 0.6891, 0.2381, 0.2993, 0.1262, 0.4532,\n",
      "        0.3811, 0.3728, 0.4401, 0.4180, 0.4459, 0.4159, 0.2808, 0.1791, 0.3148,\n",
      "        0.3591, 0.4785, 0.3145, 0.4626, 0.1953, 0.7274, 0.2345, 0.2988, 0.3824,\n",
      "        0.3426, 0.3551, 0.3832, 0.3119, 0.4055, 0.2465, 0.3559, 0.3042, 0.5646,\n",
      "        0.3040, 0.1549, 0.2766, 0.2453, 0.3301, 0.2526, 0.5068, 0.3242, 0.2828,\n",
      "        0.2696, 0.3224, 0.3438, 0.4959, 0.2525, 0.2665, 0.3455, 0.3260, 0.1918,\n",
      "        0.4829, 0.4426, 0.4391, 0.2004, 0.4504, 0.5951, 0.1381, 0.3168, 0.3107,\n",
      "        0.2074, 0.3355, 0.1242, 0.2248, 0.0991, 0.1405, 0.2349, 0.3617, 0.3546,\n",
      "        0.1267, 0.4605, 0.2640, 0.3742, 0.2560, 0.1541, 0.3312, 0.3954, 0.4601,\n",
      "        0.3464, 0.3765, 0.5077, 0.1793, 0.1620, 0.1781, 0.3155, 0.3646, 0.3887,\n",
      "        0.2707, 0.3409, 0.2277, 0.2492, 0.2813, 0.3546, 0.2649, 0.7255, 0.1800,\n",
      "        0.4110, 0.2106, 0.6259, 0.1007, 0.2710, 0.5048, 0.3545, 0.2655, 0.1503,\n",
      "        0.3819, 0.3552, 0.1319, 0.3765, 0.3931, 0.2735, 0.3680, 0.4071, 0.4617,\n",
      "        0.1283, 0.2280, 0.1373, 0.1426, 0.3788, 0.6704, 0.1577, 0.4562, 0.2639,\n",
      "        0.2176, 0.3905, 0.5461, 0.3676, 0.1627, 0.2438, 0.2719, 0.3233, 0.1238,\n",
      "        0.3021, 0.2207, 0.3434, 0.4064, 0.3628, 0.2002, 0.2472, 0.4171, 0.2792,\n",
      "        0.2953, 0.3087, 0.4314, 0.1939, 0.1477, 0.3519, 0.3867, 0.5956, 0.4401,\n",
      "        0.3810, 0.3706, 0.3587, 0.2969, 0.3890, 0.6219, 0.5148, 0.1610, 0.3560,\n",
      "        0.4004, 0.4149, 0.1407, 0.3587, 0.3690, 0.3485, 0.3754, 0.3840, 0.3142,\n",
      "        0.2953, 0.4666, 0.2185, 0.4560, 0.3571, 0.3741, 0.2836, 0.2614, 0.3446,\n",
      "        0.2218, 0.4925, 0.2907, 0.4000, 0.6744, 0.3731, 0.1921, 0.3903, 0.4099,\n",
      "        0.4881, 0.4077], device='cuda:0', dtype=torch.float64)\n"
     ]
    }
   ],
   "source": [
    "factors_tuk = tucker(covmats, rank=(100, 300, 300), verbose=0) \n",
    "print(\"parameter count\", compute_params(factors_tuk))\n",
    "print(\"core shape\", factors_tuk.core.shape)\n",
    "print (\"factor shape\", [f.shape for f in factors_tuk.factors])\n",
    "residues_tuk = (covmats - tl.tucker_to_tensor(factors_tuk))\n",
    "residues_tuk_norm = torch.norm(residues_tuk, dim=(1, 2))\n",
    "tot_norm = torch.norm(covmats, dim=(1, 2))\n",
    "print(residues_tuk_norm / tot_norm)"
   ]
  },
  {
   "cell_type": "code",
   "execution_count": 13,
   "metadata": {},
   "outputs": [
    {
     "name": "stdout",
     "output_type": "stream",
     "text": [
      "parameter count 75680\n",
      "core shape torch.Size([200, 10, 10])\n",
      "factor shape [torch.Size([200, 200]), torch.Size([784, 10]), torch.Size([784, 10])]\n",
      "tensor([0.8191, 0.8519, 0.8984, 0.8503, 0.8625, 0.9590, 0.8822, 0.8633, 0.8790,\n",
      "        0.8150, 0.8118, 0.8898, 0.8793, 0.9709, 0.8408, 0.8243, 0.9128, 0.9165,\n",
      "        0.8640, 0.8990, 0.8577, 0.8996, 0.8306, 0.9184, 0.8735, 0.9061, 0.8463,\n",
      "        0.8885, 0.9173, 0.8416, 0.8944, 0.9046, 0.9658, 0.8631, 0.8616, 0.8926,\n",
      "        0.8999, 0.8304, 0.8554, 0.8723, 0.8634, 0.8636, 0.8327, 0.8454, 0.9028,\n",
      "        0.8605, 0.8966, 0.8236, 0.8843, 0.8017, 0.8435, 0.8982, 0.8185, 0.9050,\n",
      "        0.8431, 0.8843, 0.8501, 0.8390, 0.8600, 0.8109, 0.8290, 0.8661, 0.8457,\n",
      "        0.8770, 0.8760, 0.8660, 0.7983, 0.8339, 0.9626, 0.8808, 0.8511, 0.8834,\n",
      "        0.8653, 0.8284, 0.8525, 0.8486, 0.8819, 0.8342, 0.8207, 0.7834, 0.8997,\n",
      "        0.8186, 0.8447, 0.8895, 0.8866, 0.8789, 0.8949, 0.8594, 0.8873, 0.8956,\n",
      "        0.8391, 0.8890, 0.8472, 0.8190, 0.8631, 0.8667, 0.8542, 0.8644, 0.8656,\n",
      "        0.7957, 0.8587, 0.8261, 0.7757, 0.7771, 0.8610, 0.8569, 0.9581, 0.8865,\n",
      "        0.9037, 0.9278, 0.9242, 0.9119, 0.8232, 0.8929, 0.8782, 0.8360, 0.8638,\n",
      "        0.9138, 0.8959, 0.8086, 0.9086, 0.9220, 0.8546, 0.9115, 0.9193, 0.8955,\n",
      "        0.8056, 0.8606, 0.8201, 0.9322, 0.8986, 0.9639, 0.8640, 0.8527, 0.8599,\n",
      "        0.8041, 0.8452, 0.9278, 0.8829, 0.8855, 0.8985, 0.8998, 0.8962, 0.8113,\n",
      "        0.8924, 0.8590, 0.8036, 0.8115, 0.8331, 0.8963, 0.7875, 0.8210, 0.8160,\n",
      "        0.8896, 0.8664, 0.8775, 0.8857, 0.8552, 0.8993, 0.7771, 0.9121, 0.9073,\n",
      "        0.8467, 0.9022, 0.9105, 0.8220, 0.8749, 0.9800, 0.8682, 0.8485, 0.8386,\n",
      "        0.9037, 0.8951, 0.8392, 0.8556, 0.9026, 0.8858, 0.9240, 0.8308, 0.8567,\n",
      "        0.8947, 0.9050, 0.8848, 0.8340, 0.8421, 0.8758, 0.9158, 0.8641, 0.7834,\n",
      "        0.9079, 0.9022, 0.8666, 0.8327, 0.9607, 0.8458, 0.8907, 0.9021, 0.8284,\n",
      "        0.8665, 0.8672], device='cuda:0', dtype=torch.float64)\n"
     ]
    }
   ],
   "source": [
    "factors_tuk = tucker(covmats, rank=(200, 10, 10), verbose=0) \n",
    "print(\"parameter count\", compute_params(factors_tuk))\n",
    "print(\"core shape\", factors_tuk.core.shape)\n",
    "print (\"factor shape\", [f.shape for f in factors_tuk.factors])\n",
    "residues_tuk = (covmats - tl.tucker_to_tensor(factors_tuk))\n",
    "residues_tuk_norm = torch.norm(residues_tuk, dim=(1, 2))\n",
    "tot_norm = torch.norm(covmats, dim=(1, 2))\n",
    "print(residues_tuk_norm / tot_norm)"
   ]
  },
  {
   "cell_type": "code",
   "execution_count": 43,
   "metadata": {},
   "outputs": [
    {
     "name": "stderr",
     "output_type": "stream",
     "text": [
      "/n/home12/binxuwang/.conda/envs/torch/lib/python3.10/site-packages/tensorly/tucker_tensor.py:425: RuntimeWarning: Given only one int for 'rank' for decomposition a tensor of order 3. Using this rank for all modes.\n",
      "  warnings.warn(message, RuntimeWarning)\n"
     ]
    },
    {
     "name": "stdout",
     "output_type": "stream",
     "text": [
      "parameter count 8353600\n",
      "tensor([0.1347, 0.1587, 0.1643, 0.1436, 0.1496, 0.2661, 0.1485, 0.1358, 0.1217,\n",
      "        0.1350, 0.1738, 0.1457, 0.1463, 0.2478, 0.1460, 0.1217, 0.1410, 0.1762,\n",
      "        0.1576, 0.1336, 0.1649, 0.1427, 0.1616, 0.1485, 0.1498, 0.1703, 0.1154,\n",
      "        0.1362, 0.1957, 0.1373, 0.1899, 0.1462, 0.2664, 0.1228, 0.1672, 0.1194,\n",
      "        0.1172, 0.1280, 0.1098, 0.1496, 0.1467, 0.1272, 0.1644, 0.1285, 0.2260,\n",
      "        0.1468, 0.1402, 0.1719, 0.1396, 0.1296, 0.1509, 0.1832, 0.1299, 0.1300,\n",
      "        0.1152, 0.1394, 0.1220, 0.1515, 0.1449, 0.1194, 0.1198, 0.1201, 0.1409,\n",
      "        0.1794, 0.1515, 0.1316, 0.1494, 0.1660, 0.2247, 0.1453, 0.1151, 0.1231,\n",
      "        0.1336, 0.1532, 0.1535, 0.1434, 0.1705, 0.1706, 0.1278, 0.1314, 0.1640,\n",
      "        0.1177, 0.1465, 0.1375, 0.1507, 0.1271, 0.1400, 0.1285, 0.1343, 0.1530,\n",
      "        0.1416, 0.1455, 0.1640, 0.1390, 0.1366, 0.1623, 0.1406, 0.1615, 0.1280,\n",
      "        0.1276, 0.1653, 0.1582, 0.1159, 0.1389, 0.1807, 0.1359, 0.3103, 0.1551,\n",
      "        0.1203, 0.1900, 0.2438, 0.1579, 0.1576, 0.1411, 0.1410, 0.1178, 0.1390,\n",
      "        0.1631, 0.1821, 0.1230, 0.1580, 0.1613, 0.1431, 0.1861, 0.1346, 0.1659,\n",
      "        0.1625, 0.1658, 0.1205, 0.1607, 0.1263, 0.2466, 0.1336, 0.1816, 0.1340,\n",
      "        0.1289, 0.1277, 0.1673, 0.1275, 0.1262, 0.1284, 0.1134, 0.1540, 0.1214,\n",
      "        0.1361, 0.1328, 0.1584, 0.1499, 0.1337, 0.1342, 0.1379, 0.1650, 0.1362,\n",
      "        0.1238, 0.1200, 0.1933, 0.1398, 0.1560, 0.1637, 0.1343, 0.2123, 0.1511,\n",
      "        0.1521, 0.1491, 0.1471, 0.1360, 0.1168, 0.2748, 0.1822, 0.1303, 0.1502,\n",
      "        0.1438, 0.1794, 0.1470, 0.1517, 0.1547, 0.1252, 0.1839, 0.1446, 0.1292,\n",
      "        0.1339, 0.1614, 0.1399, 0.1614, 0.1518, 0.1482, 0.1336, 0.1291, 0.1332,\n",
      "        0.1834, 0.1391, 0.1368, 0.1500, 0.2712, 0.1328, 0.1303, 0.1692, 0.1458,\n",
      "        0.1524, 0.1480], device='cuda:0', dtype=torch.float64)\n"
     ]
    }
   ],
   "source": [
    "factors_tuk = tucker(covmats, rank=200, verbose=0) \n",
    "print(\"parameter count\", compute_params(factors_tuk))\n",
    "residues_tuk = (covmats - tl.tucker_to_tensor(factors_tuk))\n",
    "residues_tuk_norm = torch.norm(residues_tuk, dim=(1, 2))\n",
    "tot_norm = torch.norm(covmats, dim=(1, 2))\n",
    "print(residues_tuk_norm / tot_norm)"
   ]
  },
  {
   "cell_type": "code",
   "execution_count": 29,
   "metadata": {},
   "outputs": [
    {
     "name": "stderr",
     "output_type": "stream",
     "text": [
      "/n/home12/binxuwang/.conda/envs/torch/lib/python3.10/site-packages/tensorly/tucker_tensor.py:425: RuntimeWarning: Given only one int for 'rank' for decomposition a tensor of order 3. Using this rank for all modes.\n",
      "  warnings.warn(message, RuntimeWarning)\n"
     ]
    },
    {
     "name": "stdout",
     "output_type": "stream",
     "text": [
      "reconstruction error=0.14582019622610604, variation=2.2933458165841358e-07.\n",
      "converged in 2 iterations.\n"
     ]
    }
   ],
   "source": [
    "# Assuming 'tensor' is your [B, N, N] tensor\n",
    "factors_tuk = tucker(covmats, rank=200, verbose=1)  # Specify the rank R"
   ]
  },
  {
   "cell_type": "code",
   "execution_count": 37,
   "metadata": {},
   "outputs": [
    {
     "data": {
      "text/plain": [
       "353800"
      ]
     },
     "execution_count": 37,
     "metadata": {},
     "output_type": "execute_result"
    }
   ],
   "source": [
    "# number of parameters in factors_tuk \n",
    "sum([np.prod(f.shape) for f in factors.factors]) + np.prod(factors.weights.shape)"
   ]
  },
  {
   "cell_type": "code",
   "execution_count": 36,
   "metadata": {},
   "outputs": [
    {
     "data": {
      "text/plain": [
       "8353600"
      ]
     },
     "execution_count": 36,
     "metadata": {},
     "output_type": "execute_result"
    }
   ],
   "source": [
    "# number of parameters in factors_tuk \n",
    "sum([np.prod(f.shape) for f in factors_tuk.factors]) + np.prod(factors_tuk.core.shape)"
   ]
  },
  {
   "cell_type": "code",
   "execution_count": 30,
   "metadata": {},
   "outputs": [
    {
     "data": {
      "text/plain": [
       "torch.Size([200, 200, 200])"
      ]
     },
     "execution_count": 30,
     "metadata": {},
     "output_type": "execute_result"
    }
   ],
   "source": [
    "factors_tuk.core.shape"
   ]
  },
  {
   "cell_type": "code",
   "execution_count": 31,
   "metadata": {},
   "outputs": [
    {
     "data": {
      "text/plain": [
       "torch.Size([200, 200])"
      ]
     },
     "execution_count": 31,
     "metadata": {},
     "output_type": "execute_result"
    }
   ],
   "source": [
    "factors_tuk.factors[0].shape"
   ]
  },
  {
   "cell_type": "code",
   "execution_count": 32,
   "metadata": {},
   "outputs": [
    {
     "name": "stdout",
     "output_type": "stream",
     "text": [
      "tensor([0.1347, 0.1587, 0.1643, 0.1436, 0.1496, 0.2661, 0.1485, 0.1358, 0.1217,\n",
      "        0.1350, 0.1738, 0.1457, 0.1463, 0.2478, 0.1460, 0.1217, 0.1410, 0.1762,\n",
      "        0.1576, 0.1336, 0.1649, 0.1427, 0.1616, 0.1485, 0.1498, 0.1703, 0.1154,\n",
      "        0.1362, 0.1957, 0.1373, 0.1899, 0.1462, 0.2664, 0.1228, 0.1672, 0.1194,\n",
      "        0.1172, 0.1280, 0.1098, 0.1496, 0.1467, 0.1272, 0.1644, 0.1285, 0.2260,\n",
      "        0.1468, 0.1402, 0.1719, 0.1396, 0.1296, 0.1509, 0.1832, 0.1299, 0.1300,\n",
      "        0.1152, 0.1394, 0.1220, 0.1515, 0.1449, 0.1194, 0.1198, 0.1201, 0.1409,\n",
      "        0.1794, 0.1515, 0.1316, 0.1494, 0.1660, 0.2247, 0.1453, 0.1151, 0.1231,\n",
      "        0.1336, 0.1532, 0.1535, 0.1434, 0.1705, 0.1706, 0.1278, 0.1314, 0.1640,\n",
      "        0.1177, 0.1465, 0.1375, 0.1507, 0.1271, 0.1400, 0.1285, 0.1343, 0.1530,\n",
      "        0.1416, 0.1455, 0.1640, 0.1390, 0.1366, 0.1623, 0.1406, 0.1615, 0.1280,\n",
      "        0.1276, 0.1653, 0.1582, 0.1159, 0.1389, 0.1807, 0.1359, 0.3103, 0.1551,\n",
      "        0.1203, 0.1900, 0.2438, 0.1579, 0.1576, 0.1411, 0.1410, 0.1178, 0.1390,\n",
      "        0.1631, 0.1821, 0.1230, 0.1580, 0.1613, 0.1431, 0.1861, 0.1346, 0.1659,\n",
      "        0.1625, 0.1658, 0.1205, 0.1607, 0.1263, 0.2466, 0.1336, 0.1816, 0.1340,\n",
      "        0.1289, 0.1277, 0.1673, 0.1275, 0.1262, 0.1284, 0.1134, 0.1540, 0.1214,\n",
      "        0.1361, 0.1328, 0.1584, 0.1499, 0.1337, 0.1342, 0.1379, 0.1650, 0.1362,\n",
      "        0.1238, 0.1200, 0.1933, 0.1398, 0.1560, 0.1637, 0.1343, 0.2123, 0.1511,\n",
      "        0.1521, 0.1491, 0.1471, 0.1360, 0.1168, 0.2748, 0.1822, 0.1303, 0.1502,\n",
      "        0.1438, 0.1794, 0.1470, 0.1517, 0.1547, 0.1252, 0.1839, 0.1446, 0.1292,\n",
      "        0.1339, 0.1614, 0.1399, 0.1614, 0.1518, 0.1482, 0.1336, 0.1291, 0.1332,\n",
      "        0.1834, 0.1391, 0.1368, 0.1500, 0.2712, 0.1328, 0.1303, 0.1692, 0.1458,\n",
      "        0.1524, 0.1480], device='cuda:0', dtype=torch.float64)\n"
     ]
    }
   ],
   "source": [
    "residues_tuk = (covmats - tl.tucker_to_tensor(factors_tuk))\n",
    "residues_tuk_norm = torch.norm(residues_tuk, dim=(1, 2))\n",
    "tot_norm = torch.norm(covmats, dim=(1, 2))\n",
    "print(residues_tuk_norm / tot_norm)"
   ]
  },
  {
   "cell_type": "code",
   "execution_count": null,
   "metadata": {},
   "outputs": [],
   "source": []
  }
 ],
 "metadata": {
  "kernelspec": {
   "display_name": "torch",
   "language": "python",
   "name": "python3"
  },
  "language_info": {
   "codemirror_mode": {
    "name": "ipython",
    "version": 3
   },
   "file_extension": ".py",
   "mimetype": "text/x-python",
   "name": "python",
   "nbconvert_exporter": "python",
   "pygments_lexer": "ipython3",
   "version": "3.10.12"
  }
 },
 "nbformat": 4,
 "nbformat_minor": 2
}
